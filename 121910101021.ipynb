{
  "nbformat": 4,
  "nbformat_minor": 0,
  "metadata": {
    "colab": {
      "name": "121910101021.ipynb",
      "provenance": [],
      "collapsed_sections": [],
      "authorship_tag": "ABX9TyMhk10HlfzkFVhBODr7rN7f",
      "include_colab_link": true
    },
    "kernelspec": {
      "name": "python3",
      "display_name": "Python 3"
    },
    "language_info": {
      "name": "python"
    }
  },
  "cells": [
    {
      "cell_type": "markdown",
      "metadata": {
        "id": "view-in-github",
        "colab_type": "text"
      },
      "source": [
        "<a href=\"https://colab.research.google.com/github/VedulaParimalaBt21/VParimala121910101021/blob/main/121910101021.ipynb\" target=\"_parent\"><img src=\"https://colab.research.google.com/assets/colab-badge.svg\" alt=\"Open In Colab\"/></a>"
      ]
    },
    {
      "cell_type": "code",
      "metadata": {
        "id": "XXj6cxINmplp"
      },
      "source": [
        "class ItemValue: \n",
        "    def __init__(self, wt, val, ind): \n",
        "        self.wt = wt \n",
        "        self.val = val \n",
        "        self.ind = ind \n",
        "        self.cost = val // wt \n",
        "  \n",
        "    def __lt__(self, other): \n",
        "        return self.cost < other.cost \n",
        "class Fractionalvalue: \n",
        "    def getMaxValue(wt, val, capacity): \n",
        "        iVal = [] \n",
        "        for i in range(len(wt)): \n",
        "            iVal.append(ItemValue(wt[i], val[i], i)) \n",
        "        iVal.sort(reverse = True) \n",
        "  \n",
        "        totalValue = 0\n",
        "        for i in iVal: \n",
        "            curWt = int(i.wt) \n",
        "            curVal = int(i.val) \n",
        "            if capacity - curWt >= 0: \n",
        "                capacity -= curWt \n",
        "                totalValue += curVal \n",
        "            else: \n",
        "                fraction = capacity / curWt \n",
        "                totalValue += curVal * fraction \n",
        "                capacity = int(capacity - (curWt * fraction)) \n",
        "                break\n",
        "        return totalValue\n"
      ],
      "execution_count": null,
      "outputs": []
    }
  ]
}