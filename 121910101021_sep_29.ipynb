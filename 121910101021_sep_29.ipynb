{
  "nbformat": 4,
  "nbformat_minor": 0,
  "metadata": {
    "colab": {
      "name": "121910101021 sep 29",
      "provenance": [],
      "collapsed_sections": [],
      "authorship_tag": "ABX9TyM/TuHFtDOPC/w8AOE+xBpx",
      "include_colab_link": true
    },
    "kernelspec": {
      "name": "python3",
      "display_name": "Python 3"
    },
    "language_info": {
      "name": "python"
    }
  },
  "cells": [
    {
      "cell_type": "markdown",
      "metadata": {
        "id": "view-in-github",
        "colab_type": "text"
      },
      "source": [
        "<a href=\"https://colab.research.google.com/github/VedulaParimalaBt21/VParimala121910101021/blob/main/121910101021_sep_29.ipynb\" target=\"_parent\"><img src=\"https://colab.research.google.com/assets/colab-badge.svg\" alt=\"Open In Colab\"/></a>"
      ]
    },
    {
      "cell_type": "code",
      "metadata": {
        "colab": {
          "base_uri": "https://localhost:8080/"
        },
        "id": "MsKlPL2ulrMq",
        "outputId": "88f75fb6-d890-4044-d150-c49ad4259ff8"
      },
      "source": [
        "#OPEN HASH TECHNIQUE\n",
        "\n",
        "HashTable=[[] for _ in range(10)]\n",
        "#Hashkey generator\n",
        "def Hashing(keyvalue):\n",
        "  i=keyvalue%len(HashTable)\n",
        "  return(i)\n",
        "#insert the data\n",
        "def insert(HashTable,keyvalue,value):\n",
        "  Hashkey=Hashing(keyvalue)\n",
        "  HashTable[Hashkey].append(value)\n",
        "#insert the data\n",
        "insert(HashTable,10,'PARI')\n",
        "insert(HashTable,25,'shiro')\n",
        "insert(HashTable,20,'kyubi')\n",
        "insert(HashTable,0,'prady')\n",
        "HashTable\n",
        "\n",
        "\n"
      ],
      "execution_count": null,
      "outputs": [
        {
          "output_type": "execute_result",
          "data": {
            "text/plain": [
              "[['PARI', 'kyubi', 'prady'], [], [], [], [], ['shiro'], [], [], [], []]"
            ]
          },
          "metadata": {},
          "execution_count": 8
        }
      ]
    },
    {
      "cell_type": "code",
      "metadata": {
        "colab": {
          "base_uri": "https://localhost:8080/"
        },
        "id": "Am0K12ZveTeb",
        "outputId": "9caf8a33-fc2b-4888-cd25-2b994dfec37b"
      },
      "source": [
        "def display_hash(hashTable):\n",
        "\n",
        "    for i in range (len(hashTable)):\n",
        "        print(i,end = \"\")\n",
        "\n",
        "        for j in hashTable[i]:\n",
        "            print(\"--->\", end =\" \")\n",
        "            print(j,end =\" \")\n",
        "\n",
        "        print()\n",
        "\n",
        "HashTable =[[] for _ in range(10)]\n",
        "\n",
        "def Hashing(keyvalue):\n",
        "    return keyvalue % len(HashTable)\n",
        "\n",
        "\n",
        "def insert(HashTable, keyvalue, value):\n",
        "\n",
        "    hash_key = Hashing(keyvalue)\n",
        "    HashTable[hash_key].append(value)\n",
        "\n",
        "insert(HashTable, 10, 'Allahbad')\n",
        "\n",
        "insert(HashTable, 25, 'Mumbai')\n",
        "\n",
        "insert(HashTable, 20, 'Mathura')\n",
        "\n",
        "insert(HashTable, 9, 'Delhi')\n",
        "\n",
        "insert(HashTable, 21, 'Punjab')\n",
        "\n",
        "insert(HashTable, 21, 'Noida')\n",
        "\n",
        "display_hash (HashTable)"
      ],
      "execution_count": 6,
      "outputs": [
        {
          "output_type": "stream",
          "name": "stdout",
          "text": [
            "0---> Allahbad ---> Mathura \n",
            "1---> Punjab ---> Noida \n",
            "2\n",
            "3\n",
            "4\n",
            "5---> Mumbai \n",
            "6\n",
            "7\n",
            "8\n",
            "9---> Delhi \n"
          ]
        }
      ]
    },
    {
      "cell_type": "code",
      "metadata": {
        "id": "q4bAoWBrXdv_"
      },
      "source": [
        "HashTable=[[] for _ in range(10)]\n",
        "#Hashkey generator\n",
        "def Hashing(keyvalue):\n",
        "  i=keyvalue%len(HashTable)\n",
        "  return(i)\n",
        "#insert the data\n",
        "def insert(HashTable,keyvalue,value):\n",
        "  Hashkey=Hashing(keyvalue)\n",
        "  HashTable[Hashkey].append(value)\n",
        "   \n",
        "#insert the data\n",
        "insert(HashTable,10,(10,'Nepal'))\n",
        "insert(HashTable,25,(25,'USA'))\n",
        "insert(HashTable,20,(20,'India'))\n",
        "#searching in the hastable\n",
        "def search(HashTable,keyvalue):\n",
        "  for i in HashTable:\n",
        "    if i[0]== keytable:\n",
        "      return i[1]\n",
        "\n",
        "\n",
        "\n",
        "HashTable\n",
        "print(search(HashTable,20))\n"
      ],
      "execution_count": null,
      "outputs": []
    }
  ]
}