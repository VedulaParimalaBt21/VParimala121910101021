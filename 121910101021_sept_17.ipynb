{
  "nbformat": 4,
  "nbformat_minor": 0,
  "metadata": {
    "colab": {
      "name": "121910101021 sept 17.ipynb",
      "provenance": [],
      "collapsed_sections": [],
      "authorship_tag": "ABX9TyPcc6n73EzSFy2wfPi9Rba2",
      "include_colab_link": true
    },
    "kernelspec": {
      "name": "python3",
      "display_name": "Python 3"
    },
    "language_info": {
      "name": "python"
    }
  },
  "cells": [
    {
      "cell_type": "markdown",
      "metadata": {
        "id": "view-in-github",
        "colab_type": "text"
      },
      "source": [
        "<a href=\"https://colab.research.google.com/github/VedulaParimalaBt21/VParimala121910101021/blob/main/121910101021_sept_17.ipynb\" target=\"_parent\"><img src=\"https://colab.research.google.com/assets/colab-badge.svg\" alt=\"Open In Colab\"/></a>"
      ]
    },
    {
      "cell_type": "code",
      "metadata": {
        "colab": {
          "base_uri": "https://localhost:8080/"
        },
        "id": "v9GCMhrchXTe",
        "outputId": "4e06f2a3-aad2-43dc-9893-788a118e85a9"
      },
      "source": [
        "import math\n",
        "a=int(input(\"enter the number of right handed screws:- \"))\n",
        "b=int(input(\"enter the number of left handed screw:- \"))\n",
        "c=int(input(\"number of screws to be selected:- \"))\n",
        "d=input(\"enter with replacement or without replacement:- \")\n",
        "T= a+b\n",
        "if d== \"without replacement\":\n",
        "  C1=math.factorial(b)/(math.factorial(b-c)*math.factorial(c))\n",
        "  C2=math.factorial(T)/(math.factorial(T-c)*math.factorial(c))\n",
        "  C= 1-(C1/C2)\n",
        "  prob= print(\"prob of atleast one :- \", C)\n",
        "else:\n",
        "  prob1=(b)/T\n",
        "  prob2=(b)/T\n",
        "  P=1-(prob1*prob2)\n",
        "  print(\"the prob with replacement is:- \",P)\n",
        "\n",
        "\n"
      ],
      "execution_count": 6,
      "outputs": [
        {
          "output_type": "stream",
          "name": "stdout",
          "text": [
            "enter the number of right handed screws:- 20\n",
            "enter the number of left handed screw:- 10\n",
            "number of screws to be selected:- 2\n",
            "enter with replacement or without replacement:- with replcement\n",
            "the prob with replacement is:-  0.8888888888888888\n"
          ]
        }
      ]
    }
  ]
}