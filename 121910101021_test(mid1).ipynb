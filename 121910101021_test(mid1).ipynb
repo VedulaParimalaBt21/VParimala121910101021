{
  "nbformat": 4,
  "nbformat_minor": 0,
  "metadata": {
    "colab": {
      "name": "121910101021 test(mid1).ipynb",
      "provenance": [],
      "authorship_tag": "ABX9TyPH/3xdPp8j1B9cbUM8OKTN",
      "include_colab_link": true
    },
    "kernelspec": {
      "name": "python3",
      "display_name": "Python 3"
    },
    "language_info": {
      "name": "python"
    }
  },
  "cells": [
    {
      "cell_type": "markdown",
      "metadata": {
        "id": "view-in-github",
        "colab_type": "text"
      },
      "source": [
        "<a href=\"https://colab.research.google.com/github/VedulaParimalaBt21/VParimala121910101021/blob/main/121910101021_test(mid1).ipynb\" target=\"_parent\"><img src=\"https://colab.research.google.com/assets/colab-badge.svg\" alt=\"Open In Colab\"/></a>"
      ]
    },
    {
      "cell_type": "code",
      "metadata": {
        "colab": {
          "base_uri": "https://localhost:8080/"
        },
        "id": "5x2GopePPJBi",
        "outputId": "a95ac8cc-42de-4c9a-df9e-bf474e17e61c"
      },
      "source": [
        "#A box contains N screws, K of which are defective. 2 screws are drawn at random. Find the probability that none of the two screws are defective\n",
        "def fact(n):\n",
        "    if n==0:\n",
        "        return 1\n",
        "    else:\n",
        "        return n*fact(n-1)\n",
        "a=int(input(\"enter the total number of screws:\" ))\n",
        "b=int(input(\"enter the defective screws:\"))\n",
        "d=int(input(\"enter the number of screws to be selected:\"))\n",
        "e=int(a-b)\n",
        "c1= fact(e)/(fact(e-d)*fact(d))\n",
        "c2=fact(a)/(fact(a-d)*fact(d))\n",
        "C=c1/c2\n",
        "print(C)\n",
        "\n",
        "\n"
      ],
      "execution_count": 17,
      "outputs": [
        {
          "output_type": "stream",
          "name": "stdout",
          "text": [
            "enter the total number of screws:10\n",
            "enter the defective screws:3\n",
            "enter the number of screws to be selected:2\n",
            "0.4666666666666667\n"
          ]
        }
      ]
    },
    {
      "cell_type": "code",
      "metadata": {
        "colab": {
          "base_uri": "https://localhost:8080/"
        },
        "id": "FlK4JZdXVCzD",
        "outputId": "9008f342-9096-4c8e-88ef-e4f523f19345"
      },
      "source": [
        "def prob_screws(N,K):\n",
        "  prob= (N-K)/N\n",
        "  prob1=(N-K)/N\n",
        "  P=prob*prob1\n",
        "  return P \n",
        "N=int(input(\"total number of screws\"))\n",
        "K=int(input(\"enter number of defective :\"))\n",
        "print(\" the probability : \",prob_screws(N,K))\n",
        "\n"
      ],
      "execution_count": 16,
      "outputs": [
        {
          "output_type": "stream",
          "name": "stdout",
          "text": [
            "total number of screws15\n",
            "enter number of defective :4\n",
            " the probability :  0.5377777777777777\n"
          ]
        }
      ]
    }
  ]
}