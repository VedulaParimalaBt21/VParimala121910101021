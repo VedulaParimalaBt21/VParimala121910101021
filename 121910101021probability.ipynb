{
  "nbformat": 4,
  "nbformat_minor": 0,
  "metadata": {
    "colab": {
      "name": "121910101021probability.ipynb",
      "provenance": [],
      "authorship_tag": "ABX9TyPxkviqcnU+eN6gWbIeI4wE",
      "include_colab_link": true
    },
    "kernelspec": {
      "name": "python3",
      "display_name": "Python 3"
    },
    "language_info": {
      "name": "python"
    }
  },
  "cells": [
    {
      "cell_type": "markdown",
      "metadata": {
        "id": "view-in-github",
        "colab_type": "text"
      },
      "source": [
        "<a href=\"https://colab.research.google.com/github/VedulaParimalaBt21/VParimala121910101021/blob/main/121910101021probability.ipynb\" target=\"_parent\"><img src=\"https://colab.research.google.com/assets/colab-badge.svg\" alt=\"Open In Colab\"/></a>"
      ]
    },
    {
      "cell_type": "code",
      "metadata": {
        "colab": {
          "base_uri": "https://localhost:8080/"
        },
        "id": "eXhEY-eDIVz5",
        "outputId": "03799473-19f4-453b-d326-d3a20fdf8823"
      },
      "source": [
        "A ={1,2,3,4,5}\n",
        "B ={5,6,7}\n",
        "print(2 in A)\n",
        "type(2 in A)"
      ],
      "execution_count": null,
      "outputs": [
        {
          "output_type": "stream",
          "name": "stdout",
          "text": [
            "True\n"
          ]
        },
        {
          "output_type": "execute_result",
          "data": {
            "text/plain": [
              "bool"
            ]
          },
          "metadata": {},
          "execution_count": 1
        }
      ]
    },
    {
      "cell_type": "code",
      "metadata": {
        "colab": {
          "base_uri": "https://localhost:8080/"
        },
        "id": "VoUA-7y9NExG",
        "outputId": "b09704fd-a127-450c-d6d6-7f01a561a384"
      },
      "source": [
        "A ={1,2,3,4,5}\n",
        "B ={5,6,7}\n",
        "C ={3,4,5}\n",
        "B.issubset(A)\n",
        "C.issubset(A)"
      ],
      "execution_count": null,
      "outputs": [
        {
          "output_type": "execute_result",
          "data": {
            "text/plain": [
              "True"
            ]
          },
          "metadata": {},
          "execution_count": 4
        }
      ]
    },
    {
      "cell_type": "code",
      "metadata": {
        "colab": {
          "base_uri": "https://localhost:8080/"
        },
        "id": "Vl-JxKF9Nbqg",
        "outputId": "f10587e1-705c-4420-8223-915d6b7cfadc"
      },
      "source": [
        "def is_subset(A,B):\n",
        "  for i in A:\n",
        "    if i in B:\n",
        "      pass\n",
        "    else:\n",
        "      return False \n",
        "  return true\n",
        "A ={1,2,3,4,5}\n",
        "B ={2,3,4}\n",
        "print(is_subset(A,B))"
      ],
      "execution_count": null,
      "outputs": [
        {
          "output_type": "stream",
          "name": "stdout",
          "text": [
            "False\n"
          ]
        }
      ]
    },
    {
      "cell_type": "code",
      "metadata": {
        "colab": {
          "base_uri": "https://localhost:8080/"
        },
        "id": "GLv-GRlpRBo8",
        "outputId": "23386aee-3ce3-4fbd-e4f5-799082189371"
      },
      "source": [
        "import numpy as np\n",
        "uni =set(np.arange(10))\n",
        "print(uni)\n",
        "A = set(np.arange(0,9,2))\n",
        "print(A)\n",
        "B =set(np.arange(0,9,3))\n",
        "print(B)\n",
        "P=A.union(B)\n",
        "print(P)"
      ],
      "execution_count": null,
      "outputs": [
        {
          "output_type": "stream",
          "name": "stdout",
          "text": [
            "{0, 1, 2, 3, 4, 5, 6, 7, 8, 9}\n",
            "{0, 2, 4, 6, 8}\n",
            "{0, 3, 6}\n",
            "{0, 2, 3, 4, 6, 8}\n"
          ]
        }
      ]
    }
  ]
}
import numpy as np
U=set(np.arange(10))
A=set(np.arange(0,9,2))
B=set(np.arange(0,9,3))
P= A.union(B)
Q=uni.difference(P)
S=uni.difference(B)
R=uni.difference(A)
T=R.intersection(S)
if Q==T :
  print("True")
else:
  print("false")
