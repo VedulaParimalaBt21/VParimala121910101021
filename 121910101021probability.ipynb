{
  "nbformat": 4,
  "nbformat_minor": 0,
  "metadata": {
    "colab": {
      "name": "121910101021probability.ipynb",
      "provenance": [],
      "authorship_tag": "ABX9TyPJjIojFve9CTo+o8SQhTpP",
      "include_colab_link": true
    },
    "kernelspec": {
      "name": "python3",
      "display_name": "Python 3"
    },
    "language_info": {
      "name": "python"
    }
  },
  "cells": [
    {
      "cell_type": "markdown",
      "metadata": {
        "id": "view-in-github",
        "colab_type": "text"
      },
      "source": [
        "<a href=\"https://colab.research.google.com/github/VedulaParimalaBt21/VParimala121910101021/blob/main/121910101021probability.ipynb\" target=\"_parent\"><img src=\"https://colab.research.google.com/assets/colab-badge.svg\" alt=\"Open In Colab\"/></a>"
      ]
    },
    {
      "cell_type": "code",
      "metadata": {
        "colab": {
          "base_uri": "https://localhost:8080/"
        },
        "id": "eXhEY-eDIVz5",
        "outputId": "03799473-19f4-453b-d326-d3a20fdf8823"
      },
      "source": [
        "A ={1,2,3,4,5}\n",
        "B ={5,6,7}\n",
        "print(2 in A)\n",
        "type(2 in A)"
      ],
      "execution_count": null,
      "outputs": [
        {
          "output_type": "stream",
          "name": "stdout",
          "text": [
            "True\n"
          ]
        },
        {
          "output_type": "execute_result",
          "data": {
            "text/plain": [
              "bool"
            ]
          },
          "metadata": {},
          "execution_count": 1
        }
      ]
    },
    {
      "cell_type": "code",
      "metadata": {
        "colab": {
          "base_uri": "https://localhost:8080/"
        },
        "id": "VoUA-7y9NExG",
        "outputId": "b09704fd-a127-450c-d6d6-7f01a561a384"
      },
      "source": [
        "A ={1,2,3,4,5}\n",
        "B ={5,6,7}\n",
        "C ={3,4,5}\n",
        "B.issubset(A)\n",
        "C.issubset(A)"
      ],
      "execution_count": null,
      "outputs": [
        {
          "output_type": "execute_result",
          "data": {
            "text/plain": [
              "True"
            ]
          },
          "metadata": {},
          "execution_count": 4
        }
      ]
    },
    {
      "cell_type": "code",
      "metadata": {
        "colab": {
          "base_uri": "https://localhost:8080/"
        },
        "id": "Vl-JxKF9Nbqg",
        "outputId": "786da278-cb1f-40be-96b5-a37201357d81"
      },
      "source": [
        "def is_subset(A,B):\n",
        "  for e in A:\n",
        "    if e in B:\n",
        "      pass\n",
        "    else:\n",
        "      return False \n",
        "  return true\n",
        "A ={1,2,3,4,5}\n",
        "B ={2,3,4}\n",
        "print(is_subset(A,B))"
      ],
      "execution_count": null,
      "outputs": [
        {
          "output_type": "stream",
          "name": "stdout",
          "text": [
            "False\n"
          ]
        }
      ]
    },
    {
      "cell_type": "code",
      "metadata": {
        "colab": {
          "base_uri": "https://localhost:8080/"
        },
        "id": "GLv-GRlpRBo8",
        "outputId": "d6ffec59-fd3f-4c53-a157-d33ced64dfe2"
      },
      "source": [
        "import numpy as np\n",
        "uni =set(np.arange(10))\n",
        "print(uni)\n",
        "A = set(np.arange(0,9,2))\n",
        "print(A)\n",
        "B =set(np.arange(0,9,3))\n",
        "print(B)\n",
        "P=A.union(B)\n",
        "print(P)\n",
        "Q=A.intersection(B)\n",
        "print(Q)\n",
        "H=A.difference(B)\n",
        "print(H)\n",
        "print(\"A complement\",uni.difference(A))"
      ],
      "execution_count": null,
      "outputs": [
        {
          "output_type": "stream",
          "name": "stdout",
          "text": [
            "{0, 1, 2, 3, 4, 5, 6, 7, 8, 9}\n",
            "{0, 2, 4, 6, 8}\n",
            "{0, 3, 6}\n",
            "{0, 2, 3, 4, 6, 8}\n",
            "{0, 6}\n",
            "{8, 2, 4}\n",
            "A complement {1, 3, 5, 7, 9}\n"
          ]
        }
      ]
    },
    {
      "cell_type": "code",
      "metadata": {
        "colab": {
          "base_uri": "https://localhost:8080/"
        },
        "id": "3-d086WRfFGm",
        "outputId": "41c8d9e2-fa1e-49e8-daa8-9d95bc9911ec"
      },
      "source": [
        "import numpy as np\n",
        "U=set(np.arange(10))\n",
        "A=set(np.arange(0,9,2))\n",
        "B=set(np.arange(0,9,3))\n",
        "P= A.union(B)\n",
        "Q=uni.difference(P)\n",
        "S=uni.difference(B)\n",
        "R=uni.difference(A)\n",
        "T=R.intersection(S)\n",
        "if Q==T :\n",
        "  print(\"True\")\n",
        "else:\n",
        "  print(\"false\")"
      ],
      "execution_count": null,
      "outputs": [
        {
          "output_type": "stream",
          "name": "stdout",
          "text": [
            "True\n"
          ]
        }
      ]
    },
    {
      "cell_type": "code",
      "metadata": {
        "colab": {
          "base_uri": "https://localhost:8080/"
        },
        "id": "u0dXHYpvMMaO",
        "outputId": "a7c0a250-a201-4cce-977f-a6a793f0c817"
      },
      "source": [
        "def card_probability(f,s):\n",
        "  prob = f/s\n",
        "  return prob\n",
        "f=int(input(\"total no of red hearts: \"))\n",
        "s=int(input(\"total outcomes: \"))\n",
        "print(round(card_probability(f,s),2))"
      ],
      "execution_count": 2,
      "outputs": [
        {
          "output_type": "stream",
          "name": "stdout",
          "text": [
            "total no of red hearts: 13\n",
            "total outcomes: 52\n",
            "0.25\n"
          ]
        }
      ]
    },
    {
      "cell_type": "code",
      "metadata": {
        "colab": {
          "base_uri": "https://localhost:8080/"
        },
        "id": "rHUjHIBFQr7B",
        "outputId": "33291702-8cbb-427c-d2be-ae0361e05839"
      },
      "source": [
        "def card_probability(f,s):\n",
        "  \n",
        "  prob = f/s\n",
        "  return prob\n",
        "f=int(input(\"total no of face cards: \"))\n",
        "s=int(input(\"total outcomes: \"))\n",
        "print(round(card_probability(f,s),2))"
      ],
      "execution_count": 4,
      "outputs": [
        {
          "output_type": "stream",
          "name": "stdout",
          "text": [
            "total no of face cards: 12\n",
            "total outcomes: 52\n",
            "0.23\n"
          ]
        }
      ]
    },
    {
      "cell_type": "code",
      "metadata": {
        "colab": {
          "base_uri": "https://localhost:8080/"
        },
        "id": "I5gtQciBUlul",
        "outputId": "564615c6-d567-420f-ffc8-6074dd3d44ca"
      },
      "source": [
        "def dice(a,b):\n",
        "  prob=len(a)+len(b)-len(a.intersection(b))\n",
        "  s={1,2,3,4,5,6}\n",
        "  c=prob/len(s)\n",
        "  return c\n",
        "a={1,3,5}\n",
        "b={1,2,3}\n",
        "print(round(dice(a,b),2))"
      ],
      "execution_count": 14,
      "outputs": [
        {
          "output_type": "stream",
          "name": "stdout",
          "text": [
            "0.67\n"
          ]
        }
      ]
    }
  ]
}